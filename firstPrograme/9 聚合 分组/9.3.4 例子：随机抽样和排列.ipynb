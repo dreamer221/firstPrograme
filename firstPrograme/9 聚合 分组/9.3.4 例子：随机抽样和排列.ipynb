{
 "cells": [
  {
   "cell_type": "code",
   "execution_count": 1,
   "metadata": {
    "collapsed": true
   },
   "outputs": [],
   "source": [
    "import numpy as np\n",
    "import pandas as pd"
   ]
  },
  {
   "cell_type": "markdown",
   "metadata": {},
   "source": [
    "# 9.3.4 例子：随机抽样和排列"
   ]
  },
  {
   "cell_type": "code",
   "execution_count": 2,
   "metadata": {},
   "outputs": [
    {
     "name": "stdout",
     "output_type": "stream",
     "text": [
      "[1, 2, 3, 4, 5, 6, 7, 8, 9, 10, 10, 10, 10, 1, 2, 3, 4, 5, 6, 7, 8, 9, 10, 10, 10, 10, 1, 2, 3, 4, 5, 6, 7, 8, 9, 10, 10, 10, 10, 1, 2, 3, 4, 5, 6, 7, 8, 9, 10, 10, 10, 10]\n",
      "['A', 2, 3, 4, 5, 6, 7, 8, 9, 10, 'J', 'K', 'Q']\n",
      "\n"
     ]
    }
   ],
   "source": [
    "# Hearts红桃，Spades黑桃，Clubs梅花，Diamonds方片\n",
    "suits = ['H', 'S', 'C', 'D']\n",
    "card_val = (list(range(1, 11)) + [10] * 3) * 4\n",
    "base_names = ['A'] + list(range(2, 11)) + ['J', 'K', 'Q']\n",
    "print(card_val)\n",
    "print(base_names)\n",
    "print()"
   ]
  },
  {
   "cell_type": "code",
   "execution_count": 9,
   "metadata": {},
   "outputs": [
    {
     "name": "stdout",
     "output_type": "stream",
     "text": [
      "cards: ['AH', '2H', '3H', '4H', '5H', '6H', '7H', '8H', '9H', '10H', 'JH', 'KH', 'QH', 'AS', '2S', '3S', '4S', '5S', '6S', '7S', '8S', '9S', '10S', 'JS', 'KS', 'QS', 'AC', '2C', '3C', '4C', '5C', '6C', '7C', '8C', '9C', '10C', 'JC', 'KC', 'QC', 'AD', '2D', '3D', '4D', '5D', '6D', '7D', '8D', '9D', '10D', 'JD', 'KD', 'QD']\n"
     ]
    },
    {
     "data": {
      "text/plain": [
       "AH      1\n",
       "2H      2\n",
       "3H      3\n",
       "4H      4\n",
       "5H      5\n",
       "6H      6\n",
       "7H      7\n",
       "8H      8\n",
       "9H      9\n",
       "10H    10\n",
       "JH     10\n",
       "KH     10\n",
       "QH     10\n",
       "AS      1\n",
       "2S      2\n",
       "3S      3\n",
       "4S      4\n",
       "5S      5\n",
       "6S      6\n",
       "7S      7\n",
       "8S      8\n",
       "9S      9\n",
       "10S    10\n",
       "JS     10\n",
       "KS     10\n",
       "QS     10\n",
       "AC      1\n",
       "2C      2\n",
       "3C      3\n",
       "4C      4\n",
       "5C      5\n",
       "6C      6\n",
       "7C      7\n",
       "8C      8\n",
       "9C      9\n",
       "10C    10\n",
       "JC     10\n",
       "KC     10\n",
       "QC     10\n",
       "AD      1\n",
       "2D      2\n",
       "3D      3\n",
       "4D      4\n",
       "5D      5\n",
       "6D      6\n",
       "7D      7\n",
       "8D      8\n",
       "9D      9\n",
       "10D    10\n",
       "JD     10\n",
       "KD     10\n",
       "QD     10\n",
       "dtype: int64"
      ]
     },
     "execution_count": 9,
     "metadata": {},
     "output_type": "execute_result"
    }
   ],
   "source": [
    "cards = []\n",
    "for suit in ['H', 'S', 'C', 'D']:\n",
    "    cards.extend(str(num) + suit for num in base_names)\n",
    "\n",
    "deck = pd.Series(card_val, index=cards)\n",
    "print(\"cards:\", cards)\n",
    "deck"
   ]
  },
  {
   "cell_type": "code",
   "execution_count": 4,
   "metadata": {
    "collapsed": true
   },
   "outputs": [],
   "source": [
    "def draw(deck, n=5):\n",
    "    return deck.sample(n)"
   ]
  },
  {
   "cell_type": "code",
   "execution_count": 5,
   "metadata": {},
   "outputs": [
    {
     "data": {
      "text/plain": [
       "9S     9\n",
       "JS    10\n",
       "2C     2\n",
       "4C     4\n",
       "AH     1\n",
       "dtype: int64"
      ]
     },
     "execution_count": 5,
     "metadata": {},
     "output_type": "execute_result"
    }
   ],
   "source": [
    "draw(deck)"
   ]
  },
  {
   "cell_type": "code",
   "execution_count": 11,
   "metadata": {},
   "outputs": [
    {
     "name": "stdout",
     "output_type": "stream",
     "text": [
      "C\n",
      "AC      1\n",
      "2C      2\n",
      "3C      3\n",
      "4C      4\n",
      "5C      5\n",
      "6C      6\n",
      "7C      7\n",
      "8C      8\n",
      "9C      9\n",
      "10C    10\n",
      "JC     10\n",
      "KC     10\n",
      "QC     10\n",
      "dtype: int64\n",
      "\n",
      "D\n",
      "AD      1\n",
      "2D      2\n",
      "3D      3\n",
      "4D      4\n",
      "5D      5\n",
      "6D      6\n",
      "7D      7\n",
      "8D      8\n",
      "9D      9\n",
      "10D    10\n",
      "JD     10\n",
      "KD     10\n",
      "QD     10\n",
      "dtype: int64\n",
      "\n",
      "H\n",
      "AH      1\n",
      "2H      2\n",
      "3H      3\n",
      "4H      4\n",
      "5H      5\n",
      "6H      6\n",
      "7H      7\n",
      "8H      8\n",
      "9H      9\n",
      "10H    10\n",
      "JH     10\n",
      "KH     10\n",
      "QH     10\n",
      "dtype: int64\n",
      "\n",
      "S\n",
      "AS      1\n",
      "2S      2\n",
      "3S      3\n",
      "4S      4\n",
      "5S      5\n",
      "6S      6\n",
      "7S      7\n",
      "8S      8\n",
      "9S      9\n",
      "10S    10\n",
      "JS     10\n",
      "KS     10\n",
      "QS     10\n",
      "dtype: int64\n",
      "\n"
     ]
    }
   ],
   "source": [
    "get_suit = lambda card: card[-1]\n",
    "for i, j in deck.groupby(get_suit):\n",
    "    print(i, j, sep='\\n')\n",
    "    print()"
   ]
  },
  {
   "cell_type": "code",
   "execution_count": 12,
   "metadata": {},
   "outputs": [
    {
     "data": {
      "text/plain": [
       "C  4C      4\n",
       "   5C      5\n",
       "D  2D      2\n",
       "   5D      5\n",
       "H  6H      6\n",
       "   KH     10\n",
       "S  10S    10\n",
       "   5S      5\n",
       "dtype: int64"
      ]
     },
     "execution_count": 12,
     "metadata": {},
     "output_type": "execute_result"
    }
   ],
   "source": [
    "deck.groupby(get_suit).apply(draw, n=2)"
   ]
  },
  {
   "cell_type": "markdown",
   "metadata": {},
   "source": [
    "另外一种写法："
   ]
  },
  {
   "cell_type": "code",
   "execution_count": 7,
   "metadata": {},
   "outputs": [
    {
     "data": {
      "text/plain": [
       "QC    10\n",
       "6C     6\n",
       "5D     5\n",
       "8D     8\n",
       "3H     3\n",
       "KH    10\n",
       "8S     8\n",
       "2S     2\n",
       "dtype: int64"
      ]
     },
     "execution_count": 7,
     "metadata": {},
     "output_type": "execute_result"
    }
   ],
   "source": [
    "deck.groupby(get_suit, group_keys=False).apply(draw, n=2)"
   ]
  },
  {
   "cell_type": "code",
   "execution_count": null,
   "metadata": {
    "collapsed": true
   },
   "outputs": [],
   "source": []
  }
 ],
 "metadata": {
  "anaconda-cloud": {},
  "kernelspec": {
   "display_name": "Python 3",
   "language": "python",
   "name": "python3"
  },
  "language_info": {
   "codemirror_mode": {
    "name": "ipython",
    "version": 3
   },
   "file_extension": ".py",
   "mimetype": "text/x-python",
   "name": "python",
   "nbconvert_exporter": "python",
   "pygments_lexer": "ipython3",
   "version": "3.6.1"
  }
 },
 "nbformat": 4,
 "nbformat_minor": 1
}
