{
 "cells": [
  {
   "cell_type": "code",
   "execution_count": 1,
   "metadata": {
    "collapsed": true
   },
   "outputs": [],
   "source": [
    "import numpy as np\n",
    "np.random.seed(9)\n",
    "import pandas as pd"
   ]
  },
  {
   "cell_type": "markdown",
   "metadata": {},
   "source": [
    "# 9.3.2 分位数与桶分析"
   ]
  },
  {
   "cell_type": "code",
   "execution_count": 2,
   "metadata": {},
   "outputs": [
    {
     "data": {
      "text/html": [
       "<div>\n",
       "<style>\n",
       "    .dataframe thead tr:only-child th {\n",
       "        text-align: right;\n",
       "    }\n",
       "\n",
       "    .dataframe thead th {\n",
       "        text-align: left;\n",
       "    }\n",
       "\n",
       "    .dataframe tbody tr th {\n",
       "        vertical-align: top;\n",
       "    }\n",
       "</style>\n",
       "<table border=\"1\" class=\"dataframe\">\n",
       "  <thead>\n",
       "    <tr style=\"text-align: right;\">\n",
       "      <th></th>\n",
       "      <th>data1</th>\n",
       "      <th>data2</th>\n",
       "    </tr>\n",
       "  </thead>\n",
       "  <tbody>\n",
       "    <tr>\n",
       "      <th>0</th>\n",
       "      <td>0.001109</td>\n",
       "      <td>-0.153534</td>\n",
       "    </tr>\n",
       "    <tr>\n",
       "      <th>1</th>\n",
       "      <td>-0.289544</td>\n",
       "      <td>0.138187</td>\n",
       "    </tr>\n",
       "    <tr>\n",
       "      <th>2</th>\n",
       "      <td>-1.116066</td>\n",
       "      <td>0.190899</td>\n",
       "    </tr>\n",
       "    <tr>\n",
       "      <th>3</th>\n",
       "      <td>-0.012883</td>\n",
       "      <td>0.522587</td>\n",
       "    </tr>\n",
       "    <tr>\n",
       "      <th>4</th>\n",
       "      <td>-0.378361</td>\n",
       "      <td>-1.029638</td>\n",
       "    </tr>\n",
       "  </tbody>\n",
       "</table>\n",
       "</div>"
      ],
      "text/plain": [
       "      data1     data2\n",
       "0  0.001109 -0.153534\n",
       "1 -0.289544  0.138187\n",
       "2 -1.116066  0.190899\n",
       "3 -0.012883  0.522587\n",
       "4 -0.378361 -1.029638"
      ]
     },
     "execution_count": 2,
     "metadata": {},
     "output_type": "execute_result"
    }
   ],
   "source": [
    "frame = pd.DataFrame({'data1': np.random.randn(1000),\n",
    "                       'data2': np.random.randn(1000)})\n",
    "frame.head()"
   ]
  },
  {
   "cell_type": "code",
   "execution_count": 6,
   "metadata": {},
   "outputs": [
    {
     "name": "stdout",
     "output_type": "stream",
     "text": [
      "类型: <class 'pandas.core.series.Series'>\n",
      "描述:\n",
      " count                1000\n",
      "unique                  4\n",
      "top       (-1.379, 0.151]\n",
      "freq                  465\n",
      "Name: data1, dtype: object\n"
     ]
    },
    {
     "data": {
      "text/plain": [
       "0     (-1.379, 0.151]\n",
       "1     (-1.379, 0.151]\n",
       "2     (-1.379, 0.151]\n",
       "3     (-1.379, 0.151]\n",
       "4     (-1.379, 0.151]\n",
       "5     (-1.379, 0.151]\n",
       "6    (-2.915, -1.379]\n",
       "7     (-1.379, 0.151]\n",
       "8     (-1.379, 0.151]\n",
       "9     (-1.379, 0.151]\n",
       "Name: data1, dtype: category\n",
       "Categories (4, interval[float64]): [(-2.915, -1.379] < (-1.379, 0.151] < (0.151, 1.68] < (1.68, 3.21]]"
      ]
     },
     "execution_count": 6,
     "metadata": {},
     "output_type": "execute_result"
    }
   ],
   "source": [
    "quartiles = pd.cut(frame.data1, 4)\n",
    "print(\"类型:\", type(quartiles))\n",
    "print(\"描述:\\n\", quartiles.describe())\n",
    "quartiles[:10]"
   ]
  },
  {
   "cell_type": "code",
   "execution_count": 7,
   "metadata": {
    "collapsed": true
   },
   "outputs": [],
   "source": [
    "def get_stats(group):\n",
    "    return {'min': group.min(), 'max': group.max(), \n",
    "            'count': group.count(), 'mean': group.mean()}\n",
    "\n",
    "grouped = frame.data2.groupby(quartiles)\n",
    "# for i, j in grouped:\n",
    "#     print(i)\n",
    "#     print(j)\n",
    "#     print()"
   ]
  },
  {
   "cell_type": "code",
   "execution_count": 8,
   "metadata": {},
   "outputs": [
    {
     "data": {
      "text/plain": [
       "data1                  \n",
       "(-2.915, -1.379]  count     82.000000\n",
       "                  max        2.183334\n",
       "                  mean      -0.265673\n",
       "                  min       -2.454253\n",
       "(-1.379, 0.151]   count    465.000000\n",
       "                  max        3.426141\n",
       "                  mean       0.009411\n",
       "                  min       -3.593636\n",
       "(0.151, 1.68]     count    404.000000\n",
       "                  max        3.190809\n",
       "                  mean      -0.063330\n",
       "                  min       -2.759428\n",
       "(1.68, 3.21]      count     49.000000\n",
       "                  max        1.820498\n",
       "                  mean       0.025273\n",
       "                  min       -3.046030\n",
       "Name: data2, dtype: float64"
      ]
     },
     "execution_count": 8,
     "metadata": {},
     "output_type": "execute_result"
    }
   ],
   "source": [
    "grouped.apply(get_stats)"
   ]
  },
  {
   "cell_type": "code",
   "execution_count": 19,
   "metadata": {},
   "outputs": [
    {
     "data": {
      "text/html": [
       "<div>\n",
       "<style>\n",
       "    .dataframe thead tr:only-child th {\n",
       "        text-align: right;\n",
       "    }\n",
       "\n",
       "    .dataframe thead th {\n",
       "        text-align: left;\n",
       "    }\n",
       "\n",
       "    .dataframe tbody tr th {\n",
       "        vertical-align: top;\n",
       "    }\n",
       "</style>\n",
       "<table border=\"1\" class=\"dataframe\">\n",
       "  <thead>\n",
       "    <tr style=\"text-align: right;\">\n",
       "      <th></th>\n",
       "      <th>count</th>\n",
       "      <th>max</th>\n",
       "      <th>mean</th>\n",
       "      <th>min</th>\n",
       "    </tr>\n",
       "    <tr>\n",
       "      <th>data1</th>\n",
       "      <th></th>\n",
       "      <th></th>\n",
       "      <th></th>\n",
       "      <th></th>\n",
       "    </tr>\n",
       "  </thead>\n",
       "  <tbody>\n",
       "    <tr>\n",
       "      <th>(-2.915, -1.379]</th>\n",
       "      <td>82.0</td>\n",
       "      <td>2.183334</td>\n",
       "      <td>-0.265673</td>\n",
       "      <td>-2.454253</td>\n",
       "    </tr>\n",
       "    <tr>\n",
       "      <th>(-1.379, 0.151]</th>\n",
       "      <td>465.0</td>\n",
       "      <td>3.426141</td>\n",
       "      <td>0.009411</td>\n",
       "      <td>-3.593636</td>\n",
       "    </tr>\n",
       "    <tr>\n",
       "      <th>(0.151, 1.68]</th>\n",
       "      <td>404.0</td>\n",
       "      <td>3.190809</td>\n",
       "      <td>-0.063330</td>\n",
       "      <td>-2.759428</td>\n",
       "    </tr>\n",
       "    <tr>\n",
       "      <th>(1.68, 3.21]</th>\n",
       "      <td>49.0</td>\n",
       "      <td>1.820498</td>\n",
       "      <td>0.025273</td>\n",
       "      <td>-3.046030</td>\n",
       "    </tr>\n",
       "  </tbody>\n",
       "</table>\n",
       "</div>"
      ],
      "text/plain": [
       "                  count       max      mean       min\n",
       "data1                                                \n",
       "(-2.915, -1.379]   82.0  2.183334 -0.265673 -2.454253\n",
       "(-1.379, 0.151]   465.0  3.426141  0.009411 -3.593636\n",
       "(0.151, 1.68]     404.0  3.190809 -0.063330 -2.759428\n",
       "(1.68, 3.21]       49.0  1.820498  0.025273 -3.046030"
      ]
     },
     "execution_count": 19,
     "metadata": {},
     "output_type": "execute_result"
    }
   ],
   "source": [
    "grouped.apply(get_stats).unstack()"
   ]
  },
  {
   "cell_type": "markdown",
   "metadata": {},
   "source": [
    "# ====================================="
   ]
  },
  {
   "cell_type": "code",
   "execution_count": 23,
   "metadata": {},
   "outputs": [
    {
     "data": {
      "text/plain": [
       "count    1000.000000\n",
       "mean        4.500000\n",
       "std         2.873719\n",
       "min         0.000000\n",
       "25%         2.000000\n",
       "50%         4.500000\n",
       "75%         7.000000\n",
       "max         9.000000\n",
       "Name: data1, dtype: float64"
      ]
     },
     "execution_count": 23,
     "metadata": {},
     "output_type": "execute_result"
    }
   ],
   "source": [
    "grouping = pd.qcut(frame.data1, 10, labels=False)\n",
    "grouping.describe()"
   ]
  },
  {
   "cell_type": "code",
   "execution_count": 20,
   "metadata": {},
   "outputs": [
    {
     "data": {
      "text/plain": [
       "data1       \n",
       "0      count    100.000000\n",
       "       max        2.183334\n",
       "       mean      -0.255106\n",
       "       min       -2.454253\n",
       "1      count    100.000000\n",
       "       max        3.049230\n",
       "       mean       0.171266\n",
       "       min       -2.772455\n",
       "2      count    100.000000\n",
       "       max        2.469896\n",
       "       mean      -0.002713\n",
       "       min       -2.849580\n",
       "3      count    100.000000\n",
       "       max        2.304360\n",
       "       mean      -0.008654\n",
       "       min       -3.593636\n",
       "4      count    100.000000\n",
       "       max        3.426141\n",
       "       mean      -0.097146\n",
       "       min       -2.501094\n",
       "5      count    100.000000\n",
       "       max        2.634608\n",
       "       mean       0.169993\n",
       "       min       -2.559880\n",
       "6      count    100.000000\n",
       "       max        2.689162\n",
       "       mean       0.008433\n",
       "       min       -2.321027\n",
       "7      count    100.000000\n",
       "       max        3.190809\n",
       "       mean      -0.130559\n",
       "       min       -2.759428\n",
       "8      count    100.000000\n",
       "       max        2.018009\n",
       "       mean      -0.118268\n",
       "       min       -2.357042\n",
       "9      count    100.000000\n",
       "       max        2.503975\n",
       "       mean      -0.154806\n",
       "       min       -3.046030\n",
       "Name: data2, dtype: float64"
      ]
     },
     "execution_count": 20,
     "metadata": {},
     "output_type": "execute_result"
    }
   ],
   "source": [
    "grouped = frame.data2.groupby(grouping)\n",
    "grouped.apply(get_stats)"
   ]
  },
  {
   "cell_type": "code",
   "execution_count": 21,
   "metadata": {},
   "outputs": [
    {
     "data": {
      "text/html": [
       "<div>\n",
       "<style>\n",
       "    .dataframe thead tr:only-child th {\n",
       "        text-align: right;\n",
       "    }\n",
       "\n",
       "    .dataframe thead th {\n",
       "        text-align: left;\n",
       "    }\n",
       "\n",
       "    .dataframe tbody tr th {\n",
       "        vertical-align: top;\n",
       "    }\n",
       "</style>\n",
       "<table border=\"1\" class=\"dataframe\">\n",
       "  <thead>\n",
       "    <tr style=\"text-align: right;\">\n",
       "      <th></th>\n",
       "      <th>count</th>\n",
       "      <th>max</th>\n",
       "      <th>mean</th>\n",
       "      <th>min</th>\n",
       "    </tr>\n",
       "    <tr>\n",
       "      <th>data1</th>\n",
       "      <th></th>\n",
       "      <th></th>\n",
       "      <th></th>\n",
       "      <th></th>\n",
       "    </tr>\n",
       "  </thead>\n",
       "  <tbody>\n",
       "    <tr>\n",
       "      <th>0</th>\n",
       "      <td>100.0</td>\n",
       "      <td>2.183334</td>\n",
       "      <td>-0.255106</td>\n",
       "      <td>-2.454253</td>\n",
       "    </tr>\n",
       "    <tr>\n",
       "      <th>1</th>\n",
       "      <td>100.0</td>\n",
       "      <td>3.049230</td>\n",
       "      <td>0.171266</td>\n",
       "      <td>-2.772455</td>\n",
       "    </tr>\n",
       "    <tr>\n",
       "      <th>2</th>\n",
       "      <td>100.0</td>\n",
       "      <td>2.469896</td>\n",
       "      <td>-0.002713</td>\n",
       "      <td>-2.849580</td>\n",
       "    </tr>\n",
       "    <tr>\n",
       "      <th>3</th>\n",
       "      <td>100.0</td>\n",
       "      <td>2.304360</td>\n",
       "      <td>-0.008654</td>\n",
       "      <td>-3.593636</td>\n",
       "    </tr>\n",
       "    <tr>\n",
       "      <th>4</th>\n",
       "      <td>100.0</td>\n",
       "      <td>3.426141</td>\n",
       "      <td>-0.097146</td>\n",
       "      <td>-2.501094</td>\n",
       "    </tr>\n",
       "    <tr>\n",
       "      <th>5</th>\n",
       "      <td>100.0</td>\n",
       "      <td>2.634608</td>\n",
       "      <td>0.169993</td>\n",
       "      <td>-2.559880</td>\n",
       "    </tr>\n",
       "    <tr>\n",
       "      <th>6</th>\n",
       "      <td>100.0</td>\n",
       "      <td>2.689162</td>\n",
       "      <td>0.008433</td>\n",
       "      <td>-2.321027</td>\n",
       "    </tr>\n",
       "    <tr>\n",
       "      <th>7</th>\n",
       "      <td>100.0</td>\n",
       "      <td>3.190809</td>\n",
       "      <td>-0.130559</td>\n",
       "      <td>-2.759428</td>\n",
       "    </tr>\n",
       "    <tr>\n",
       "      <th>8</th>\n",
       "      <td>100.0</td>\n",
       "      <td>2.018009</td>\n",
       "      <td>-0.118268</td>\n",
       "      <td>-2.357042</td>\n",
       "    </tr>\n",
       "    <tr>\n",
       "      <th>9</th>\n",
       "      <td>100.0</td>\n",
       "      <td>2.503975</td>\n",
       "      <td>-0.154806</td>\n",
       "      <td>-3.046030</td>\n",
       "    </tr>\n",
       "  </tbody>\n",
       "</table>\n",
       "</div>"
      ],
      "text/plain": [
       "       count       max      mean       min\n",
       "data1                                     \n",
       "0      100.0  2.183334 -0.255106 -2.454253\n",
       "1      100.0  3.049230  0.171266 -2.772455\n",
       "2      100.0  2.469896 -0.002713 -2.849580\n",
       "3      100.0  2.304360 -0.008654 -3.593636\n",
       "4      100.0  3.426141 -0.097146 -2.501094\n",
       "5      100.0  2.634608  0.169993 -2.559880\n",
       "6      100.0  2.689162  0.008433 -2.321027\n",
       "7      100.0  3.190809 -0.130559 -2.759428\n",
       "8      100.0  2.018009 -0.118268 -2.357042\n",
       "9      100.0  2.503975 -0.154806 -3.046030"
      ]
     },
     "execution_count": 21,
     "metadata": {},
     "output_type": "execute_result"
    }
   ],
   "source": [
    "grouped.apply(get_stats).unstack()"
   ]
  },
  {
   "cell_type": "code",
   "execution_count": null,
   "metadata": {
    "collapsed": true
   },
   "outputs": [],
   "source": []
  }
 ],
 "metadata": {
  "anaconda-cloud": {},
  "kernelspec": {
   "display_name": "Python 3",
   "language": "python",
   "name": "python3"
  },
  "language_info": {
   "codemirror_mode": {
    "name": "ipython",
    "version": 3
   },
   "file_extension": ".py",
   "mimetype": "text/x-python",
   "name": "python",
   "nbconvert_exporter": "python",
   "pygments_lexer": "ipython3",
   "version": "3.6.1"
  }
 },
 "nbformat": 4,
 "nbformat_minor": 1
}
