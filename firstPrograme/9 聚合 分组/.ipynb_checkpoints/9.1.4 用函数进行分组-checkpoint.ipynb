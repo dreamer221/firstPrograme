{
 "cells": [
  {
   "cell_type": "code",
   "execution_count": 20,
   "metadata": {
    "collapsed": true
   },
   "outputs": [],
   "source": [
    "import numpy as np\n",
    "np.random.seed(3)\n",
    "import pandas as pd"
   ]
  },
  {
   "cell_type": "markdown",
   "metadata": {},
   "source": [
    "# 9.1.4 用函数进行分组"
   ]
  },
  {
   "cell_type": "code",
   "execution_count": 21,
   "metadata": {},
   "outputs": [
    {
     "data": {
      "text/html": [
       "<div>\n",
       "<style>\n",
       "    .dataframe thead tr:only-child th {\n",
       "        text-align: right;\n",
       "    }\n",
       "\n",
       "    .dataframe thead th {\n",
       "        text-align: left;\n",
       "    }\n",
       "\n",
       "    .dataframe tbody tr th {\n",
       "        vertical-align: top;\n",
       "    }\n",
       "</style>\n",
       "<table border=\"1\" class=\"dataframe\">\n",
       "  <thead>\n",
       "    <tr style=\"text-align: right;\">\n",
       "      <th></th>\n",
       "      <th>a</th>\n",
       "      <th>b</th>\n",
       "      <th>c</th>\n",
       "      <th>d</th>\n",
       "      <th>e</th>\n",
       "    </tr>\n",
       "  </thead>\n",
       "  <tbody>\n",
       "    <tr>\n",
       "      <th>Joe</th>\n",
       "      <td>1.788628</td>\n",
       "      <td>0.436510</td>\n",
       "      <td>0.096497</td>\n",
       "      <td>-1.863493</td>\n",
       "      <td>-0.277388</td>\n",
       "    </tr>\n",
       "    <tr>\n",
       "      <th>Steve</th>\n",
       "      <td>-0.354759</td>\n",
       "      <td>-0.082741</td>\n",
       "      <td>-0.627001</td>\n",
       "      <td>-0.043818</td>\n",
       "      <td>-0.477218</td>\n",
       "    </tr>\n",
       "    <tr>\n",
       "      <th>Wes</th>\n",
       "      <td>-1.313865</td>\n",
       "      <td>0.884622</td>\n",
       "      <td>0.881318</td>\n",
       "      <td>1.709573</td>\n",
       "      <td>0.050034</td>\n",
       "    </tr>\n",
       "    <tr>\n",
       "      <th>Jim</th>\n",
       "      <td>-0.404677</td>\n",
       "      <td>-0.545360</td>\n",
       "      <td>-1.546477</td>\n",
       "      <td>0.982367</td>\n",
       "      <td>-1.101068</td>\n",
       "    </tr>\n",
       "    <tr>\n",
       "      <th>Travis</th>\n",
       "      <td>-1.185047</td>\n",
       "      <td>-0.205650</td>\n",
       "      <td>1.486148</td>\n",
       "      <td>0.236716</td>\n",
       "      <td>-1.023785</td>\n",
       "    </tr>\n",
       "  </tbody>\n",
       "</table>\n",
       "</div>"
      ],
      "text/plain": [
       "               a         b         c         d         e\n",
       "Joe     1.788628  0.436510  0.096497 -1.863493 -0.277388\n",
       "Steve  -0.354759 -0.082741 -0.627001 -0.043818 -0.477218\n",
       "Wes    -1.313865  0.884622  0.881318  1.709573  0.050034\n",
       "Jim    -0.404677 -0.545360 -1.546477  0.982367 -1.101068\n",
       "Travis -1.185047 -0.205650  1.486148  0.236716 -1.023785"
      ]
     },
     "execution_count": 21,
     "metadata": {},
     "output_type": "execute_result"
    }
   ],
   "source": [
    "people = pd.DataFrame(np.random.randn(5, 5),\n",
    "                      columns=['a', 'b', 'c', 'd', 'e'],\n",
    "                      index=['Joe', 'Steve', 'Wes', 'Jim', 'Travis'])\n",
    "people"
   ]
  },
  {
   "cell_type": "code",
   "execution_count": 22,
   "metadata": {},
   "outputs": [
    {
     "name": "stdout",
     "output_type": "stream",
     "text": [
      "3\n",
      "            a         b         c         d         e\n",
      "Joe  1.788628  0.436510  0.096497 -1.863493 -0.277388\n",
      "Wes -1.313865  0.884622  0.881318  1.709573  0.050034\n",
      "Jim -0.404677 -0.545360 -1.546477  0.982367 -1.101068\n",
      "\n",
      "5\n",
      "              a         b         c         d         e\n",
      "Steve -0.354759 -0.082741 -0.627001 -0.043818 -0.477218\n",
      "\n",
      "6\n",
      "               a        b         c         d         e\n",
      "Travis -1.185047 -0.20565  1.486148  0.236716 -1.023785\n",
      "\n"
     ]
    }
   ],
   "source": [
    "# 根据index的长短分组\n",
    "for name, table in people.groupby(len): # len函数在每一个index（即名字）上被调用了\n",
    "    print(name)\n",
    "    print(table)\n",
    "    print()"
   ]
  },
  {
   "cell_type": "code",
   "execution_count": 23,
   "metadata": {},
   "outputs": [
    {
     "data": {
      "text/html": [
       "<div>\n",
       "<style>\n",
       "    .dataframe thead tr:only-child th {\n",
       "        text-align: right;\n",
       "    }\n",
       "\n",
       "    .dataframe thead th {\n",
       "        text-align: left;\n",
       "    }\n",
       "\n",
       "    .dataframe tbody tr th {\n",
       "        vertical-align: top;\n",
       "    }\n",
       "</style>\n",
       "<table border=\"1\" class=\"dataframe\">\n",
       "  <thead>\n",
       "    <tr style=\"text-align: right;\">\n",
       "      <th></th>\n",
       "      <th>a</th>\n",
       "      <th>b</th>\n",
       "      <th>c</th>\n",
       "      <th>d</th>\n",
       "      <th>e</th>\n",
       "    </tr>\n",
       "  </thead>\n",
       "  <tbody>\n",
       "    <tr>\n",
       "      <th>3</th>\n",
       "      <td>0.070086</td>\n",
       "      <td>0.775772</td>\n",
       "      <td>-0.568662</td>\n",
       "      <td>0.828448</td>\n",
       "      <td>-1.328422</td>\n",
       "    </tr>\n",
       "    <tr>\n",
       "      <th>5</th>\n",
       "      <td>-0.354759</td>\n",
       "      <td>-0.082741</td>\n",
       "      <td>-0.627001</td>\n",
       "      <td>-0.043818</td>\n",
       "      <td>-0.477218</td>\n",
       "    </tr>\n",
       "    <tr>\n",
       "      <th>6</th>\n",
       "      <td>-1.185047</td>\n",
       "      <td>-0.205650</td>\n",
       "      <td>1.486148</td>\n",
       "      <td>0.236716</td>\n",
       "      <td>-1.023785</td>\n",
       "    </tr>\n",
       "  </tbody>\n",
       "</table>\n",
       "</div>"
      ],
      "text/plain": [
       "          a         b         c         d         e\n",
       "3  0.070086  0.775772 -0.568662  0.828448 -1.328422\n",
       "5 -0.354759 -0.082741 -0.627001 -0.043818 -0.477218\n",
       "6 -1.185047 -0.205650  1.486148  0.236716 -1.023785"
      ]
     },
     "execution_count": 23,
     "metadata": {},
     "output_type": "execute_result"
    }
   ],
   "source": [
    "people.groupby(len).sum() # len函数在每一个index（即名字）上被调用了"
   ]
  },
  {
   "cell_type": "markdown",
   "metadata": {},
   "source": [
    "混合不同的函数、数组，字典或series都不成问题，因为所有对象都会被转换为数组："
   ]
  },
  {
   "cell_type": "code",
   "execution_count": 24,
   "metadata": {},
   "outputs": [
    {
     "name": "stdout",
     "output_type": "stream",
     "text": [
      "(3, 'one')\n",
      "            a         b         c         d         e\n",
      "Joe  1.788628  0.436510  0.096497 -1.863493 -0.277388\n",
      "Wes -1.313865  0.884622  0.881318  1.709573  0.050034\n",
      "\n",
      "(3, 'two')\n",
      "            a        b         c         d         e\n",
      "Jim -0.404677 -0.54536 -1.546477  0.982367 -1.101068\n",
      "\n",
      "(5, 'one')\n",
      "              a         b         c         d         e\n",
      "Steve -0.354759 -0.082741 -0.627001 -0.043818 -0.477218\n",
      "\n",
      "(6, 'two')\n",
      "               a        b         c         d         e\n",
      "Travis -1.185047 -0.20565  1.486148  0.236716 -1.023785\n",
      "\n"
     ]
    }
   ],
   "source": [
    "key_list = ['one', 'one', 'one', 'two', 'two']\n",
    "for name, table in people.groupby([len, key_list]): \n",
    "    print(name)\n",
    "    print(table)\n",
    "    print()"
   ]
  },
  {
   "cell_type": "code",
   "execution_count": 25,
   "metadata": {},
   "outputs": [
    {
     "data": {
      "text/html": [
       "<div>\n",
       "<style>\n",
       "    .dataframe thead tr:only-child th {\n",
       "        text-align: right;\n",
       "    }\n",
       "\n",
       "    .dataframe thead th {\n",
       "        text-align: left;\n",
       "    }\n",
       "\n",
       "    .dataframe tbody tr th {\n",
       "        vertical-align: top;\n",
       "    }\n",
       "</style>\n",
       "<table border=\"1\" class=\"dataframe\">\n",
       "  <thead>\n",
       "    <tr style=\"text-align: right;\">\n",
       "      <th></th>\n",
       "      <th></th>\n",
       "      <th>a</th>\n",
       "      <th>b</th>\n",
       "      <th>c</th>\n",
       "      <th>d</th>\n",
       "      <th>e</th>\n",
       "    </tr>\n",
       "  </thead>\n",
       "  <tbody>\n",
       "    <tr>\n",
       "      <th rowspan=\"2\" valign=\"top\">3</th>\n",
       "      <th>one</th>\n",
       "      <td>-1.313865</td>\n",
       "      <td>0.436510</td>\n",
       "      <td>0.096497</td>\n",
       "      <td>-1.863493</td>\n",
       "      <td>-0.277388</td>\n",
       "    </tr>\n",
       "    <tr>\n",
       "      <th>two</th>\n",
       "      <td>-0.404677</td>\n",
       "      <td>-0.545360</td>\n",
       "      <td>-1.546477</td>\n",
       "      <td>0.982367</td>\n",
       "      <td>-1.101068</td>\n",
       "    </tr>\n",
       "    <tr>\n",
       "      <th>5</th>\n",
       "      <th>one</th>\n",
       "      <td>-0.354759</td>\n",
       "      <td>-0.082741</td>\n",
       "      <td>-0.627001</td>\n",
       "      <td>-0.043818</td>\n",
       "      <td>-0.477218</td>\n",
       "    </tr>\n",
       "    <tr>\n",
       "      <th>6</th>\n",
       "      <th>two</th>\n",
       "      <td>-1.185047</td>\n",
       "      <td>-0.205650</td>\n",
       "      <td>1.486148</td>\n",
       "      <td>0.236716</td>\n",
       "      <td>-1.023785</td>\n",
       "    </tr>\n",
       "  </tbody>\n",
       "</table>\n",
       "</div>"
      ],
      "text/plain": [
       "              a         b         c         d         e\n",
       "3 one -1.313865  0.436510  0.096497 -1.863493 -0.277388\n",
       "  two -0.404677 -0.545360 -1.546477  0.982367 -1.101068\n",
       "5 one -0.354759 -0.082741 -0.627001 -0.043818 -0.477218\n",
       "6 two -1.185047 -0.205650  1.486148  0.236716 -1.023785"
      ]
     },
     "execution_count": 25,
     "metadata": {},
     "output_type": "execute_result"
    }
   ],
   "source": [
    "people.groupby([len, key_list]).min()"
   ]
  },
  {
   "cell_type": "code",
   "execution_count": null,
   "metadata": {
    "collapsed": true
   },
   "outputs": [],
   "source": []
  },
  {
   "cell_type": "code",
   "execution_count": null,
   "metadata": {
    "collapsed": true
   },
   "outputs": [],
   "source": []
  }
 ],
 "metadata": {
  "anaconda-cloud": {},
  "kernelspec": {
   "display_name": "Python 3",
   "language": "python",
   "name": "python3"
  },
  "language_info": {
   "codemirror_mode": {
    "name": "ipython",
    "version": 3
   },
   "file_extension": ".py",
   "mimetype": "text/x-python",
   "name": "python",
   "nbconvert_exporter": "python",
   "pygments_lexer": "ipython3",
   "version": "3.6.1"
  }
 },
 "nbformat": 4,
 "nbformat_minor": 1
}
