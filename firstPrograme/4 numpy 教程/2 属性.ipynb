{
 "cells": [
  {
   "cell_type": "code",
   "execution_count": 1,
   "metadata": {
    "collapsed": true
   },
   "outputs": [],
   "source": [
    "import numpy as np"
   ]
  },
  {
   "cell_type": "markdown",
   "metadata": {},
   "source": [
    "##  属性"
   ]
  },
  {
   "cell_type": "code",
   "execution_count": 2,
   "metadata": {
    "collapsed": true
   },
   "outputs": [],
   "source": [
    "d1d = np.array([1, 2, 3])\n",
    "d2d = np.array([[1.8, 2, 3, 2.4], [3, 4, 5, 8]])"
   ]
  },
  {
   "cell_type": "markdown",
   "metadata": {},
   "source": [
    "#### ndarray.ndim\t秩，即轴的数量或维度的数量"
   ]
  },
  {
   "cell_type": "code",
   "execution_count": 3,
   "metadata": {},
   "outputs": [
    {
     "name": "stdout",
     "output_type": "stream",
     "text": [
      "1\n",
      "2\n"
     ]
    }
   ],
   "source": [
    "print(d1d.ndim)\n",
    "print(d2d.ndim)"
   ]
  },
  {
   "cell_type": "markdown",
   "metadata": {},
   "source": [
    "#### ndarray.shape\t数组的维度，对于矩阵，n 行 m 列"
   ]
  },
  {
   "cell_type": "code",
   "execution_count": 4,
   "metadata": {},
   "outputs": [
    {
     "name": "stdout",
     "output_type": "stream",
     "text": [
      "(3,)\n",
      "(2, 4)\n"
     ]
    }
   ],
   "source": [
    "print(d1d.shape)\n",
    "print(d2d.shape)"
   ]
  },
  {
   "cell_type": "markdown",
   "metadata": {},
   "source": [
    "#### ndarray.size\t数组元素的总个数，相当于 .shape 中 n*m 的值"
   ]
  },
  {
   "cell_type": "code",
   "execution_count": 5,
   "metadata": {},
   "outputs": [
    {
     "name": "stdout",
     "output_type": "stream",
     "text": [
      "3\n",
      "8\n"
     ]
    }
   ],
   "source": [
    "print(d1d.size)\n",
    "print(d2d.size)"
   ]
  },
  {
   "cell_type": "markdown",
   "metadata": {},
   "source": [
    "#### ndarray.dtype\t对象的元素类型"
   ]
  },
  {
   "cell_type": "code",
   "execution_count": 6,
   "metadata": {},
   "outputs": [
    {
     "name": "stdout",
     "output_type": "stream",
     "text": [
      "int32\n",
      "float64\n"
     ]
    }
   ],
   "source": [
    "print(d1d.dtype)\n",
    "print(d2d.dtype)"
   ]
  },
  {
   "cell_type": "markdown",
   "metadata": {},
   "source": [
    "#### ndarray.itemsize\t对象中每个元素的大小，以字节为单位"
   ]
  },
  {
   "cell_type": "code",
   "execution_count": 7,
   "metadata": {},
   "outputs": [
    {
     "name": "stdout",
     "output_type": "stream",
     "text": [
      "4\n",
      "8\n"
     ]
    }
   ],
   "source": [
    "print(d1d.itemsize) # int32-->4字节\n",
    "print(d2d.itemsize) # float64-->8字节"
   ]
  },
  {
   "cell_type": "markdown",
   "metadata": {},
   "source": [
    "#### ndarray.flags\t对象的内存信息"
   ]
  },
  {
   "cell_type": "code",
   "execution_count": 8,
   "metadata": {},
   "outputs": [
    {
     "name": "stdout",
     "output_type": "stream",
     "text": [
      "  C_CONTIGUOUS : True\n",
      "  F_CONTIGUOUS : True\n",
      "  OWNDATA : True\n",
      "  WRITEABLE : True\n",
      "  ALIGNED : True\n",
      "  WRITEBACKIFCOPY : False\n",
      "  UPDATEIFCOPY : False \n",
      "\n",
      "  C_CONTIGUOUS : True\n",
      "  F_CONTIGUOUS : False\n",
      "  OWNDATA : True\n",
      "  WRITEABLE : True\n",
      "  ALIGNED : True\n",
      "  WRITEBACKIFCOPY : False\n",
      "  UPDATEIFCOPY : False\n"
     ]
    }
   ],
   "source": [
    "print(d1d.flags, '\\n')\n",
    "print(d2d.flags)"
   ]
  },
  {
   "cell_type": "markdown",
   "metadata": {},
   "source": [
    "#### ndarray.real  元素的实部"
   ]
  },
  {
   "cell_type": "code",
   "execution_count": 9,
   "metadata": {},
   "outputs": [
    {
     "name": "stdout",
     "output_type": "stream",
     "text": [
      "[1.  3.7]\n"
     ]
    },
    {
     "data": {
      "text/plain": [
       "array([[1. , 3.7],\n",
       "       [4.5, 8. ]])"
      ]
     },
     "execution_count": 9,
     "metadata": {},
     "output_type": "execute_result"
    }
   ],
   "source": [
    "d1d = np.array([1 + 2j, 3.7 + 3j])\n",
    "d2d = np.array([[1 + 2j, 3.7 + 3j], [4.5, 8 - 4.8j]])\n",
    "\n",
    "print(d1d.real)\n",
    "d2d.real"
   ]
  },
  {
   "cell_type": "markdown",
   "metadata": {},
   "source": [
    "#### ndarray.imag\t 元素的虚部"
   ]
  },
  {
   "cell_type": "code",
   "execution_count": 10,
   "metadata": {},
   "outputs": [
    {
     "name": "stdout",
     "output_type": "stream",
     "text": [
      "[2. 3.]\n"
     ]
    },
    {
     "data": {
      "text/plain": [
       "array([[ 2. ,  3. ],\n",
       "       [ 0. , -4.8]])"
      ]
     },
     "execution_count": 10,
     "metadata": {},
     "output_type": "execute_result"
    }
   ],
   "source": [
    "print(d1d.imag)\n",
    "d2d.imag"
   ]
  },
  {
   "cell_type": "markdown",
   "metadata": {},
   "source": [
    "#### ndarray.data\t包含实际数组元素的缓冲区，由于一般通过数组的索引获取元素，所以通常不需要使用这个属性"
   ]
  },
  {
   "cell_type": "code",
   "execution_count": 11,
   "metadata": {},
   "outputs": [
    {
     "name": "stdout",
     "output_type": "stream",
     "text": [
      "<memory at 0x00000283E71F7948>\n"
     ]
    },
    {
     "data": {
      "text/plain": [
       "<memory at 0x00000283E61A9DC8>"
      ]
     },
     "execution_count": 11,
     "metadata": {},
     "output_type": "execute_result"
    }
   ],
   "source": [
    "print(d1d.data)\n",
    "d2d.data"
   ]
  },
  {
   "cell_type": "code",
   "execution_count": 12,
   "metadata": {
    "collapsed": true
   },
   "outputs": [],
   "source": [
    "del d1d, d2d"
   ]
  },
  {
   "cell_type": "markdown",
   "metadata": {},
   "source": [
    "## ================================"
   ]
  },
  {
   "cell_type": "code",
   "execution_count": 13,
   "metadata": {},
   "outputs": [
    {
     "data": {
      "text/plain": [
       "array([[1.8, 2. ],\n",
       "       [3. , 2.4],\n",
       "       [3. , 4. ],\n",
       "       [5. , 8. ]])"
      ]
     },
     "execution_count": 13,
     "metadata": {},
     "output_type": "execute_result"
    }
   ],
   "source": [
    "c = np.array([[1.8, 2, 3, 2.4], [3, 4, 5, 8]], dtype=float)\n",
    "# 修改形状  并不是转置， 相当于 转为一维数组再重新排列， \n",
    "c.shape = (4, -1)  # -1就是根据4进行确定\n",
    "c"
   ]
  },
  {
   "cell_type": "code",
   "execution_count": 14,
   "metadata": {},
   "outputs": [
    {
     "name": "stdout",
     "output_type": "stream",
     "text": [
      "[[1.8 2. ]\n",
      " [3.  2.4]\n",
      " [3.  4. ]\n",
      " [5.  8. ]] \n",
      "\n",
      " [[1.8 2.  3.  2.4]\n",
      " [3.  4.  5.  8. ]]\n"
     ]
    }
   ],
   "source": [
    "# 可以通过reshape（）方法进行重造，只是这样是新创建数组，虽然此时和d是不同的对象，\n",
    "# 其id值也不同，但是其内部存储的数据确实相同的，改变c中某个数据，\n",
    "# d中对应的数据也会随之变化。\n",
    "d = c.reshape(2, 4) \n",
    "print(c, '\\n\\n', d)"
   ]
  },
  {
   "cell_type": "code",
   "execution_count": 15,
   "metadata": {},
   "outputs": [
    {
     "name": "stdout",
     "output_type": "stream",
     "text": [
      "[[  1.8   2. ]\n",
      " [  3.    2.4]\n",
      " [  3.    4. ]\n",
      " [666.    8. ]] \n",
      "\n",
      " [[  1.8   2.    3.    2.4]\n",
      " [  3.    4.  666.    8. ]]\n"
     ]
    }
   ],
   "source": [
    "c[3, 0] = 666\n",
    "print(c, '\\n\\n', d)"
   ]
  },
  {
   "cell_type": "code",
   "execution_count": 16,
   "metadata": {},
   "outputs": [
    {
     "name": "stdout",
     "output_type": "stream",
     "text": [
      "[[  1   2]\n",
      " [  3   2]\n",
      " [  3   4]\n",
      " [666   8]]\n",
      "int32\n"
     ]
    }
   ],
   "source": [
    "# 转化元素类型\n",
    "c2 = c.astype(int) # 创建一个新数组， c本身的类型不会改变\n",
    "print(c2)\n",
    "print(c2.dtype)"
   ]
  },
  {
   "cell_type": "code",
   "execution_count": 17,
   "metadata": {},
   "outputs": [
    {
     "data": {
      "text/plain": [
       "array([[  1.8,   2. ],\n",
       "       [  3. ,   2.4],\n",
       "       [  3. ,   4. ],\n",
       "       [666. ,   8. ]])"
      ]
     },
     "execution_count": 17,
     "metadata": {},
     "output_type": "execute_result"
    }
   ],
   "source": [
    "# c本身的类型不会改变\n",
    "c"
   ]
  }
 ],
 "metadata": {
  "kernelspec": {
   "display_name": "Python 3",
   "language": "python",
   "name": "python3"
  },
  "language_info": {
   "codemirror_mode": {
    "name": "ipython",
    "version": 3
   },
   "file_extension": ".py",
   "mimetype": "text/x-python",
   "name": "python",
   "nbconvert_exporter": "python",
   "pygments_lexer": "ipython3",
   "version": "3.6.1"
  }
 },
 "nbformat": 4,
 "nbformat_minor": 2
}
