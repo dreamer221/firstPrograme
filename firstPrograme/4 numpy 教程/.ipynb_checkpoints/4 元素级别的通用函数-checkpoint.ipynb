{
 "cells": [
  {
   "cell_type": "code",
   "execution_count": 2,
   "metadata": {
    "collapsed": true
   },
   "outputs": [],
   "source": [
    "import numpy as np"
   ]
  },
  {
   "cell_type": "markdown",
   "metadata": {},
   "source": [
    "#  通用函数(元素级别)"
   ]
  },
  {
   "cell_type": "raw",
   "metadata": {},
   "source": [
    "np.abs(x)\n",
    "np.fabs(x)\n",
    "np.exp(x)\n",
    "np.log(y)\n",
    "np.log2(y)\n",
    "np.log10(y)\n",
    "np.sign(x) \n",
    "np.ceil(x)\n",
    "np.floor(x)\n",
    "np.rint(x)\n",
    "np.modf(x)\n",
    "np.sqrt(y)\n",
    "np.isnan(a)\n",
    "np.maximum(x, y)"
   ]
  },
  {
   "cell_type": "code",
   "execution_count": 7,
   "metadata": {},
   "outputs": [
    {
     "data": {
      "text/plain": [
       "array([[ 2.7, -4.8,  3.2],\n",
       "       [ 0.2,  1. , -3.2]])"
      ]
     },
     "execution_count": 7,
     "metadata": {},
     "output_type": "execute_result"
    }
   ],
   "source": [
    "x = np.array([[2.7, -4.8, 3.2], \n",
    "              [0.2, 1, -3.2]])\n",
    "x"
   ]
  },
  {
   "cell_type": "code",
   "execution_count": 8,
   "metadata": {},
   "outputs": [
    {
     "data": {
      "text/plain": [
       "array([[2.7, 4.8, 3.2],\n",
       "       [0.2, 1. , 3.2]])"
      ]
     },
     "execution_count": 8,
     "metadata": {},
     "output_type": "execute_result"
    }
   ],
   "source": [
    "np.abs(x)"
   ]
  },
  {
   "cell_type": "code",
   "execution_count": 9,
   "metadata": {},
   "outputs": [
    {
     "data": {
      "text/plain": [
       "array([[2.7, 4.8, 3.2],\n",
       "       [0.2, 1. , 3.2]])"
      ]
     },
     "execution_count": 9,
     "metadata": {},
     "output_type": "execute_result"
    }
   ],
   "source": [
    "np.fabs(x)"
   ]
  },
  {
   "cell_type": "code",
   "execution_count": 10,
   "metadata": {},
   "outputs": [
    {
     "name": "stdout",
     "output_type": "stream",
     "text": [
      "5.0\n"
     ]
    }
   ],
   "source": [
    "# abs()和fabs()区别是: fabs()不能求虚数的绝对值,如果是普通纸会更快\n",
    "print(np.abs(3 + 4j))"
   ]
  },
  {
   "cell_type": "code",
   "execution_count": 11,
   "metadata": {},
   "outputs": [
    {
     "name": "stdout",
     "output_type": "stream",
     "text": [
      "异常信息: ufunc 'fabs' not supported for the input types, and the inputs could not be safely coerced to any supported types according to the casting rule ''safe''\n"
     ]
    }
   ],
   "source": [
    "try:\n",
    "    np.fabs(2 - 4j)\n",
    "except TypeError as e:\n",
    "    print(\"异常信息:\", e)\n"
   ]
  },
  {
   "cell_type": "code",
   "execution_count": 12,
   "metadata": {},
   "outputs": [
    {
     "data": {
      "text/plain": [
       "array([[1.48797317e+01, 8.22974705e-03, 2.45325302e+01],\n",
       "       [1.22140276e+00, 2.71828183e+00, 4.07622040e-02]])"
      ]
     },
     "execution_count": 12,
     "metadata": {},
     "output_type": "execute_result"
    }
   ],
   "source": [
    "np.exp(x)"
   ]
  },
  {
   "cell_type": "code",
   "execution_count": 13,
   "metadata": {},
   "outputs": [
    {
     "name": "stdout",
     "output_type": "stream",
     "text": [
      "默认底数是自然对数的底:\n",
      " [[ 0.99325177  1.56861592  1.16315081]\n",
      " [-1.60943791  0.          1.16315081]]\n",
      "\n",
      "底为10:\n",
      " [[ 0.43136376  0.68124124  0.50514998]\n",
      " [-0.69897     0.          0.50514998]]\n",
      "\n",
      "底为2:\n",
      " [[ 1.43295941  2.26303441  1.67807191]\n",
      " [-2.32192809  0.          1.67807191]]\n"
     ]
    }
   ],
   "source": [
    "y = np.fabs(x)\n",
    "print(\"默认底数是自然对数的底:\\n\", np.log(y))\n",
    "print(\"\\n底为10:\\n\", np.log10(y))\n",
    "print(\"\\n底为2:\\n\", np.log2(y))"
   ]
  },
  {
   "cell_type": "code",
   "execution_count": 14,
   "metadata": {},
   "outputs": [
    {
     "data": {
      "text/plain": [
       "array([[ 2.7, -4.8,  3.2],\n",
       "       [ 0.2,  1. , -3.2]])"
      ]
     },
     "execution_count": 14,
     "metadata": {},
     "output_type": "execute_result"
    }
   ],
   "source": [
    "x"
   ]
  },
  {
   "cell_type": "code",
   "execution_count": 15,
   "metadata": {},
   "outputs": [
    {
     "data": {
      "text/plain": [
       "array([[ 1., -1.,  1.],\n",
       "       [ 1.,  1., -1.]])"
      ]
     },
     "execution_count": 15,
     "metadata": {},
     "output_type": "execute_result"
    }
   ],
   "source": [
    "np.sign(x) "
   ]
  },
  {
   "cell_type": "code",
   "execution_count": 16,
   "metadata": {},
   "outputs": [
    {
     "data": {
      "text/plain": [
       "array([[ 3., -4.,  4.],\n",
       "       [ 1.,  1., -3.]])"
      ]
     },
     "execution_count": 16,
     "metadata": {},
     "output_type": "execute_result"
    }
   ],
   "source": [
    "np.ceil(x)"
   ]
  },
  {
   "cell_type": "code",
   "execution_count": 17,
   "metadata": {},
   "outputs": [
    {
     "data": {
      "text/plain": [
       "array([[ 2., -5.,  3.],\n",
       "       [ 0.,  1., -4.]])"
      ]
     },
     "execution_count": 17,
     "metadata": {},
     "output_type": "execute_result"
    }
   ],
   "source": [
    "np.floor(x)"
   ]
  },
  {
   "cell_type": "code",
   "execution_count": 18,
   "metadata": {},
   "outputs": [
    {
     "data": {
      "text/plain": [
       "array([[ 3., -5.,  3.],\n",
       "       [ 0.,  1., -3.]])"
      ]
     },
     "execution_count": 18,
     "metadata": {},
     "output_type": "execute_result"
    }
   ],
   "source": [
    "np.rint(x) # 去最近的整数"
   ]
  },
  {
   "cell_type": "code",
   "execution_count": 19,
   "metadata": {},
   "outputs": [
    {
     "name": "stdout",
     "output_type": "stream",
     "text": [
      "整数部分:\n",
      " [[ 0.7 -0.8  0.2]\n",
      " [ 0.2  0.  -0.2]]\n",
      "\n",
      "小数部分:\n",
      " [[ 2. -4.  3.]\n",
      " [ 0.  1. -3.]]\n"
     ]
    }
   ],
   "source": [
    "res = np.modf(x) # 得到的是元组\n",
    "print(\"整数部分:\\n\", res[0])\n",
    "print(\"\\n小数部分:\\n\", res[1])"
   ]
  },
  {
   "cell_type": "code",
   "execution_count": 20,
   "metadata": {},
   "outputs": [
    {
     "data": {
      "text/plain": [
       "array([[1.64316767, 2.19089023, 1.78885438],\n",
       "       [0.4472136 , 1.        , 1.78885438]])"
      ]
     },
     "execution_count": 20,
     "metadata": {},
     "output_type": "execute_result"
    }
   ],
   "source": [
    "np.sqrt(np.fabs(x))"
   ]
  },
  {
   "cell_type": "code",
   "execution_count": 21,
   "metadata": {},
   "outputs": [
    {
     "data": {
      "text/plain": [
       "array([[False,  True, False],\n",
       "       [False, False,  True]])"
      ]
     },
     "execution_count": 21,
     "metadata": {},
     "output_type": "execute_result"
    }
   ],
   "source": [
    "a = np.array([[2.7, np.nan, 3.2], \n",
    "              [0.2, 1, np.nan]])\n",
    "np.isnan(a)"
   ]
  },
  {
   "cell_type": "code",
   "execution_count": 22,
   "metadata": {},
   "outputs": [
    {
     "name": "stdout",
     "output_type": "stream",
     "text": [
      "x: [-0.82816772 -1.22535141  1.36721368  0.20323174 -0.24618571 -0.07057591]\n",
      "y: [-1.73218975  0.96139149 -0.26147458 -0.00375204  1.96819147 -1.25419755]\n"
     ]
    },
    {
     "data": {
      "text/plain": [
       "array([-0.82816772,  0.96139149,  1.36721368,  0.20323174,  1.96819147,\n",
       "       -0.07057591])"
      ]
     },
     "execution_count": 22,
     "metadata": {},
     "output_type": "execute_result"
    }
   ],
   "source": [
    "x = np.random.randn(6)\n",
    "y = np.random.randn(6)\n",
    "print(\"x:\", x)\n",
    "print(\"y:\", y)\n",
    "np.maximum(x, y) # 取大值"
   ]
  }
 ],
 "metadata": {
  "kernelspec": {
   "display_name": "Python 3",
   "language": "python",
   "name": "python3"
  },
  "language_info": {
   "codemirror_mode": {
    "name": "ipython",
    "version": 3
   },
   "file_extension": ".py",
   "mimetype": "text/x-python",
   "name": "python",
   "nbconvert_exporter": "python",
   "pygments_lexer": "ipython3",
   "version": "3.6.1"
  }
 },
 "nbformat": 4,
 "nbformat_minor": 2
}
