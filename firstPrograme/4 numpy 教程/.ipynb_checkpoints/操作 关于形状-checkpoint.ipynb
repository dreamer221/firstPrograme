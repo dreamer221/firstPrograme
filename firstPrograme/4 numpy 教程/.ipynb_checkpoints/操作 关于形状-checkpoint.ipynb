{
 "cells": [
  {
   "cell_type": "markdown",
   "metadata": {},
   "source": [
    "# reshape 修改形状并返回,但是并不是复制"
   ]
  },
  {
   "cell_type": "code",
   "execution_count": 23,
   "metadata": {},
   "outputs": [
    {
     "name": "stdout",
     "output_type": "stream",
     "text": [
      "原始数组：\n",
      "[[0 1 2]\n",
      " [3 4 5]]\n",
      "\n",
      "\n",
      "变形后的数组：\n",
      "[0 1 2 3 4 5]\n"
     ]
    }
   ],
   "source": [
    "import numpy as np\n",
    " \n",
    "a = np.arange(6).reshape(2, 3)\n",
    "print ('原始数组：')\n",
    "print (a)\n",
    "print ('\\n')\n",
    " \n",
    "b = a.reshape(-1) # 原始数租形状并不变\n",
    "print ('变形后的数组：')\n",
    "print (b)"
   ]
  },
  {
   "cell_type": "code",
   "execution_count": 24,
   "metadata": {},
   "outputs": [
    {
     "name": "stdout",
     "output_type": "stream",
     "text": [
      "B: \n",
      " [  0   1 222   3   4   5]\n",
      "\n",
      "a也会改变:\n",
      " [[  0   1 222]\n",
      " [  3   4   5]]\n"
     ]
    }
   ],
   "source": [
    "# 但是具体数据是一致的,一个变,另一个也变\n",
    "b[2] = 222\n",
    "print(\"B: \\n\", b)\n",
    "print(\"\\na也会改变:\\n\", a)"
   ]
  },
  {
   "cell_type": "code",
   "execution_count": 25,
   "metadata": {
    "collapsed": true
   },
   "outputs": [],
   "source": [
    "del a, b"
   ]
  },
  {
   "cell_type": "markdown",
   "metadata": {},
   "source": [
    "# flatten 拉成一维数据,返回一份数组拷贝，对拷贝所做的修改不会影响原始数组"
   ]
  },
  {
   "cell_type": "code",
   "execution_count": 26,
   "metadata": {},
   "outputs": [
    {
     "name": "stdout",
     "output_type": "stream",
     "text": [
      "原始数组a：\n",
      "[[0 1 2]\n",
      " [3 4 5]]\n",
      "\n",
      "\n",
      "拉平后的数组b：\n",
      "[0 1 2 3 4 5]\n"
     ]
    }
   ],
   "source": [
    "import numpy as np\n",
    " \n",
    "a = np.arange(6).reshape(2, 3)\n",
    "print ('原始数组a：')\n",
    "print (a)\n",
    "print ('\\n')\n",
    " \n",
    "b = a.flatten() \n",
    "print ('拉平后的数组b：')\n",
    "print (b)"
   ]
  },
  {
   "cell_type": "code",
   "execution_count": 5,
   "metadata": {},
   "outputs": [
    {
     "name": "stdout",
     "output_type": "stream",
     "text": [
      "B:  [  0   1 222   3   4   5]\n",
      "a不不不变:\n",
      " [[0 1 2]\n",
      " [3 4 5]]\n"
     ]
    }
   ],
   "source": [
    "# 改变其中一个的数值,另一个也不变\n",
    "b[2] = 222\n",
    "print(\"B: \", b)\n",
    "print(\"a不不不变:\\n\", a)"
   ]
  },
  {
   "cell_type": "code",
   "execution_count": 6,
   "metadata": {
    "collapsed": true
   },
   "outputs": [],
   "source": [
    "del a, b"
   ]
  },
  {
   "cell_type": "markdown",
   "metadata": {},
   "source": [
    "# ravel 拉成一维数据并返回,但并不是拷贝"
   ]
  },
  {
   "cell_type": "code",
   "execution_count": 27,
   "metadata": {},
   "outputs": [
    {
     "name": "stdout",
     "output_type": "stream",
     "text": [
      "原始数组a：\n",
      "[[0 1 2]\n",
      " [3 4 5]]\n",
      "\n",
      "\n",
      "拉平后的数组b：\n",
      "[0 1 2 3 4 5]\n"
     ]
    }
   ],
   "source": [
    "a = np.arange(6).reshape(2, 3)\n",
    "print ('原始数组a：')\n",
    "print (a)\n",
    "print ('\\n')\n",
    " \n",
    "b = a.ravel() # # 原始数组a形状并不变\n",
    "print ('拉平后的数组b：')\n",
    "print (b)"
   ]
  },
  {
   "cell_type": "code",
   "execution_count": 8,
   "metadata": {},
   "outputs": [
    {
     "name": "stdout",
     "output_type": "stream",
     "text": [
      "B:  [  0   1 222   3   4   5]\n",
      "a也会改变:\n",
      " [[  0   1 222]\n",
      " [  3   4   5]]\n"
     ]
    }
   ],
   "source": [
    "# 改变其中一个的数值,另一个也变\n",
    "b[2] = 222\n",
    "print(\"B: \", b)\n",
    "print(\"a也会改变:\\n\", a)"
   ]
  },
  {
   "cell_type": "markdown",
   "metadata": {},
   "source": [
    "# squeeze()只能将包含一个数字的多维数组拉平为一维并返回, 但并不是复制"
   ]
  },
  {
   "cell_type": "code",
   "execution_count": 9,
   "metadata": {},
   "outputs": [
    {
     "name": "stdout",
     "output_type": "stream",
     "text": [
      "原始数组a：\n",
      "[[0]\n",
      " [1]\n",
      " [2]\n",
      " [3]\n",
      " [4]\n",
      " [5]]\n",
      "拉平后的数组b：\n",
      "[0 1 2 3 4 5]\n",
      "\n",
      "B:  [  0   1 222   3   4   5]\n",
      "a也会改变:\n",
      " [[  0]\n",
      " [  1]\n",
      " [222]\n",
      " [  3]\n",
      " [  4]\n",
      " [  5]]\n"
     ]
    }
   ],
   "source": [
    "a = np.array([[0], [1], [2], [3], [4], [5]])\n",
    "print ('原始数组a：')\n",
    "print (a)\n",
    " \n",
    "b = a.squeeze() # 原始数组a并不变\n",
    "print ('拉平后的数组b：')\n",
    "print (b)\n",
    "print()\n",
    "\n",
    "# 改变其中一个的数值,另一个也变\n",
    "b[2] = 222\n",
    "print(\"B: \", b)\n",
    "print(\"a也会改变:\\n\", a)"
   ]
  },
  {
   "cell_type": "code",
   "execution_count": 10,
   "metadata": {},
   "outputs": [
    {
     "name": "stdout",
     "output_type": "stream",
     "text": [
      "原始数组a：\n",
      "[[0 1 2]\n",
      " [3 4 5]]\n",
      "\n",
      "\n",
      "无法拉平为一维数组\n",
      "[[0 1 2]\n",
      " [3 4 5]]\n"
     ]
    }
   ],
   "source": [
    "a = np.arange(6).reshape(2, 3)\n",
    "print ('原始数组a：')\n",
    "print (a)\n",
    "print ('\\n')\n",
    " \n",
    "b = a.squeeze()\n",
    "print ('无法拉平为一维数组')\n",
    "print (b)"
   ]
  },
  {
   "cell_type": "code",
   "execution_count": 11,
   "metadata": {
    "collapsed": true
   },
   "outputs": [],
   "source": [
    "del a, b"
   ]
  },
  {
   "cell_type": "markdown",
   "metadata": {},
   "source": [
    "# flat 是一个数组元素迭代器"
   ]
  },
  {
   "cell_type": "code",
   "execution_count": 12,
   "metadata": {},
   "outputs": [
    {
     "data": {
      "text/plain": [
       "numpy.flatiter"
      ]
     },
     "execution_count": 12,
     "metadata": {},
     "output_type": "execute_result"
    }
   ],
   "source": [
    "a = np.arange(9).reshape(3, 3)\n",
    "type(a.flat)"
   ]
  },
  {
   "cell_type": "code",
   "execution_count": 13,
   "metadata": {},
   "outputs": [
    {
     "name": "stdout",
     "output_type": "stream",
     "text": [
      "one element: 0\n",
      "one element: 1\n",
      "one element: 2\n",
      "one element: 3\n",
      "one element: 4\n",
      "one element: 5\n",
      "one element: 6\n",
      "one element: 7\n",
      "one element: 8\n"
     ]
    }
   ],
   "source": [
    "for element in a.flat:\n",
    "    print(\"one element:\", element)"
   ]
  },
  {
   "cell_type": "code",
   "execution_count": 14,
   "metadata": {
    "collapsed": true
   },
   "outputs": [],
   "source": [
    "del a"
   ]
  },
  {
   "cell_type": "code",
   "execution_count": null,
   "metadata": {
    "collapsed": true
   },
   "outputs": [],
   "source": []
  }
 ],
 "metadata": {
  "kernelspec": {
   "display_name": "Python 3",
   "language": "python",
   "name": "python3"
  },
  "language_info": {
   "codemirror_mode": {
    "name": "ipython",
    "version": 3
   },
   "file_extension": ".py",
   "mimetype": "text/x-python",
   "name": "python",
   "nbconvert_exporter": "python",
   "pygments_lexer": "ipython3",
   "version": "3.6.1"
  }
 },
 "nbformat": 4,
 "nbformat_minor": 2
}
